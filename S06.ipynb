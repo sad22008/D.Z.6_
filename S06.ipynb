{
 "cells": [
  {
   "cell_type": "markdown",
   "id": "956c0aa0",
   "metadata": {},
   "source": [
    "\n",
    "# Урок 6. Расчёт длительности А/B теста + продвинутые топики"
   ]
  },
  {
   "cell_type": "code",
   "execution_count": 1,
   "id": "448b0769",
   "metadata": {},
   "outputs": [],
   "source": [
    "#from math import asin\n",
    "\n",
    "#import numpy as np\n",
    "\n",
    "from scipy import stats\n",
    "from statsmodels.stats.power import TTestIndPower, tt_ind_solve_power, zt_ind_solve_power\n",
    "from statsmodels.stats.proportion import proportion_effectsize\n",
    "from statsmodels.stats.meta_analysis import effectsize_smd\n",
    "\n",
    "from typing import Union\n",
    "\n",
    "import matplotlib.pyplot as plt\n",
    "import seaborn as sns\n",
    "#import plotly.graph_objects as go"
   ]
  },
  {
   "cell_type": "code",
   "execution_count": 2,
   "id": "9849d3a8",
   "metadata": {},
   "outputs": [],
   "source": [
    "#Расчёт effect_size для пропорций (качественная)\n",
    "def calc_propotion_effect_size(conv1: int, nobs1: int, conv2: int, nobs2: int):\n",
    "    p1, p2 = conv1 / nobs1, conv2 / nobs2\n",
    "    \n",
    "    # формула\n",
    "    #return 2  * asin(np.sqrt(p1)) - 2 * asin(np.sqrt(p2))\n",
    "    \n",
    "    # библиотека\n",
    "    return proportion_effectsize(p1, p2)\n",
    "\n",
    "#Расчёт effect_size для непрерывных метрик (количественная)\n",
    "def calc_continuous_effect_size(mean1: Union[float, int],\n",
    "                                std1: Union[float, int],\n",
    "                                mean2: Union[float, int],\n",
    "                                std2: Union[float, int],\n",
    "                                nobs1: int = 10_000,\n",
    "                                nobs2: int = 10_000):\n",
    "    \n",
    "    # формула\n",
    "    #return (mean1 - mean2) / np.sqrt((std1**2 + std2**2) / 2)\n",
    "    \n",
    "    # библиотека\n",
    "    return effectsize_smd(mean1, std1, nobs1, mean2, std2, nobs2)[0]"
   ]
  },
  {
   "cell_type": "code",
   "execution_count": 3,
   "id": "af9014fc",
   "metadata": {},
   "outputs": [],
   "source": [
    "#Расчёт минимально необходимой выборки для пропорций\n",
    "def calc_sample_size_proportion(effect_size: float,\n",
    "                                alpha: float = .05,\n",
    "                                beta: float = .2,\n",
    "                                ratio: Union[float, int] = 1):\n",
    "    \n",
    "    n = zt_ind_solve_power(effect_size=effect_size,\n",
    "                           alpha=alpha,\n",
    "                           power=(1 - beta),\n",
    "                           ratio=ratio,\n",
    "                  )\n",
    "    return int(n)\n",
    "\n",
    "#Расчёт минимально необходимой выборки для непрерывной метрики\n",
    "def calc_sample_size_continuous(effect_size: float,\n",
    "                                alpha: float = .05,\n",
    "                                beta: float = .2,\n",
    "                                ratio: Union[float, int] = 1):\n",
    "    \n",
    "    n = tt_ind_solve_power(effect_size=effect_size,\n",
    "                           alpha=alpha,\n",
    "                           power=(1 - beta),\n",
    "                           ratio=ratio,\n",
    "                  )\n",
    "    return int(n)"
   ]
  },
  {
   "cell_type": "markdown",
   "id": "41287b98",
   "metadata": {},
   "source": [
    "## Задание 1\n",
    "\n",
    "Мы хотим провести АБ-тест баннеров. Нынешняя конверсия в клик на баннер (CTR) равна 1.5%. Мы предполагаем, что с новыми баннерами CTR вырастет до 1.7%. Определите, сколько юзеров нам нужно отправить на каждую версию с уровнем доверия 95%."
   ]
  },
  {
   "cell_type": "code",
   "execution_count": 4,
   "id": "4f749559",
   "metadata": {},
   "outputs": [],
   "source": [
    "p1, p2, gamma = 1.5/100, 1.7/100, 0.95\n",
    "alpha = 1-gamma\n",
    "beta = 0.2"
   ]
  },
  {
   "cell_type": "code",
   "execution_count": 5,
   "id": "54e89aa9",
   "metadata": {},
   "outputs": [
    {
     "data": {
      "text/plain": [
       "61727"
      ]
     },
     "execution_count": 5,
     "metadata": {},
     "output_type": "execute_result"
    }
   ],
   "source": [
    "effect_size = proportion_effectsize(p1, p2)\n",
    "\n",
    "analysis = TTestIndPower()\n",
    "size = analysis.solve_power(effect_size=effect_size, nobs1=None, alpha=alpha, power=1-beta, ratio=1, alternative='two-sided')\n",
    "int(size) # объем одной выборки"
   ]
  },
  {
   "cell_type": "code",
   "execution_count": 6,
   "id": "f0aa72fd",
   "metadata": {},
   "outputs": [
    {
     "data": {
      "text/plain": [
       "61726.47090823281"
      ]
     },
     "execution_count": 6,
     "metadata": {},
     "output_type": "execute_result"
    }
   ],
   "source": [
    "zt_ind_solve_power(effect_size=effect_size, alpha=alpha, power=1 - beta)"
   ]
  },
  {
   "cell_type": "markdown",
   "id": "204f4856",
   "metadata": {},
   "source": [
    "## Задание 2\n",
    "\n",
    "Мы хотим провести АБ-тест формы подтверждения заказа. Нынешняя конверсия в заказ равна 3%. Мы предполагаем, что конверсия вырастет на 0,1%. Определите, сколько юзеров нам нужно отправить на каждую версию с уровнем доверия 99% и уровнем мощности 90%."
   ]
  },
  {
   "cell_type": "code",
   "execution_count": 7,
   "id": "b2b77a85",
   "metadata": {},
   "outputs": [],
   "source": [
    "p1, p2, gamma = 3/100, 3.1/100, 0.99\n",
    "alpha = 1-gamma\n",
    "beta = 0.1"
   ]
  },
  {
   "cell_type": "code",
   "execution_count": 8,
   "id": "ab5b379f",
   "metadata": {},
   "outputs": [
    {
     "data": {
      "text/plain": [
       "879903"
      ]
     },
     "execution_count": 8,
     "metadata": {},
     "output_type": "execute_result"
    }
   ],
   "source": [
    "effect_size = proportion_effectsize(p1, p2)\n",
    "\n",
    "analysis = TTestIndPower()\n",
    "size = analysis.solve_power(effect_size=effect_size, alpha=alpha, power=1-beta, alternative='two-sided')\n",
    "int(size)"
   ]
  },
  {
   "cell_type": "code",
   "execution_count": 9,
   "id": "867e6bdb",
   "metadata": {},
   "outputs": [
    {
     "data": {
      "text/plain": [
       "879901.5736297085"
      ]
     },
     "execution_count": 9,
     "metadata": {},
     "output_type": "execute_result"
    }
   ],
   "source": [
    "zt_ind_solve_power(effect_size=effect_size, alpha=alpha, power=1 - beta)"
   ]
  },
  {
   "cell_type": "markdown",
   "id": "75efe0ac",
   "metadata": {},
   "source": [
    "## Задание 3\n",
    "\n",
    "Дизайнер предложил добавить рекомендательную систему на этапе формирования корзины. Нынешний средний чек равен 2167 рублей, а стандартная ошибка (SD) равна 69. Мы предполагаем, что в новой версии средний чек вырастет 2180. Определите, сколько юзеров нам нужно отправить на каждую версию с уровнем доверия 95%.\n",
    "\n",
    "https://www.statulator.com/SampleSize/ss2M.html"
   ]
  },
  {
   "cell_type": "code",
   "execution_count": 10,
   "id": "8a8ec621",
   "metadata": {},
   "outputs": [
    {
     "data": {
      "text/plain": [
       "-0.18839873108913158"
      ]
     },
     "execution_count": 10,
     "metadata": {},
     "output_type": "execute_result"
    }
   ],
   "source": [
    "Mx, My = 2167, 2180\n",
    "SDx, SDy = 69, 69\n",
    "alpha = 0.05\n",
    "\n",
    "effect_size = calc_continuous_effect_size(Mx, SDx, My, SDy)\n",
    "effect_size"
   ]
  },
  {
   "cell_type": "code",
   "execution_count": 11,
   "id": "ea00e629",
   "metadata": {},
   "outputs": [
    {
     "data": {
      "text/plain": [
       "443.22546990429726"
      ]
     },
     "execution_count": 11,
     "metadata": {},
     "output_type": "execute_result"
    }
   ],
   "source": [
    "tt_ind_solve_power(effect_size=effect_size, alpha=alpha, power=0.8, ratio=1)"
   ]
  },
  {
   "cell_type": "markdown",
   "id": "8ff5d3d7",
   "metadata": {},
   "source": [
    "## Задание 4\n",
    "\n",
    "Вы решили сравниваем метрику деньги на юзера в двух группах. Размер выборки - 1000 элементов в каждой группе. \\\n",
    "Для проверки нормальности распределения на выборке в 1000 наблюдений применили, критерий Шапиро-Уилка и получили p-value, равный 0.00002, при alpha = 5%, то какой бы вывод мы могли сделать в данном случае? \\\n",
    "В этом случае какой статистический критерий для проверки первоначальной гипотезы тут лучше всего подойдёт и почему?\n",
    "\n",
    "Т.к. $p-valeu < \\alpha$, то гипотезу $H_0$ о нормальности распределения отклоняем.\n",
    "\n",
    "Количественые данные ->Распределение не нормальное -> 2 независимые выборки = критерий Манна-Уитни."
   ]
  },
  {
   "cell_type": "code",
   "execution_count": null,
   "id": "d2944a8e",
   "metadata": {},
   "outputs": [],
   "source": []
  },
  {
   "cell_type": "markdown",
   "id": "d37fb68a",
   "metadata": {},
   "source": [
    "## Проверка распределения"
   ]
  },
  {
   "cell_type": "code",
   "execution_count": 12,
   "id": "4a6a18c9",
   "metadata": {},
   "outputs": [],
   "source": [
    "size = 10_000\n",
    "X = stats.norm.rvs(size=size)\n",
    "Y = stats.uniform.rvs(size=size)\n",
    "Z = stats.expon.rvs(size=size)"
   ]
  },
  {
   "cell_type": "code",
   "execution_count": null,
   "id": "41935af1",
   "metadata": {},
   "outputs": [],
   "source": [
    "'''\n",
    "fig = go.Figure()\n",
    "fig.add_trace(go.Histogram(x=normal_distr, name='normal_distr',))\n",
    "fig.add_trace(go.Histogram(x=uniform_distr, name='uniform_distr'))\n",
    "fig.add_trace(go.Histogram(x=expon_distr, name='expon_distr'))\n",
    "\n",
    "# Overlay both histograms\n",
    "fig.update_layout(barmode='overlay')\n",
    "# Reduce opacity to see both histograms\n",
    "fig.update_traces(opacity=0.5)\n",
    "fig.show()\n",
    "'''"
   ]
  },
  {
   "cell_type": "code",
   "execution_count": 13,
   "id": "511a4783",
   "metadata": {},
   "outputs": [
    {
     "data": {
      "image/png": "[encoded data removed]",
      "text/plain": [
       "<Figure size 1000x500 with 1 Axes>"
      ]
     },
     "metadata": {},
     "output_type": "display_data"
    }
   ],
   "source": [
    "plt.figure(figsize=(10, 5))\n",
    "sns.histplot([X,Y,Z], bins=80);"
   ]
  },
  {
   "cell_type": "code",
   "execution_count": 16,
   "id": "2a371fe1",
   "metadata": {},
   "outputs": [
    {
     "data": {
      "text/plain": [
       "[(array([-0.64251339, -0.08300113, -0.96004299, ...,  0.97600696,\n",
       "         -0.39829943,  0.03100908]),\n",
       "  'normal_distr'),\n",
       " (array([0.79313646, 0.48459959, 0.72983964, ..., 0.96370927, 0.48651888,\n",
       "         0.36151126]),\n",
       "  'uniform_distr'),\n",
       " (array([3.62519136, 0.15563567, 2.12398424, ..., 0.74463693, 0.25988909,\n",
       "         2.80922599]),\n",
       "  'expon_distr')]"
      ]
     },
     "execution_count": 16,
     "metadata": {},
     "output_type": "execute_result"
    }
   ],
   "source": [
    "distr_name = list(zip((X, Y, Z), ('normal_distr', 'uniform_distr', 'expon_distr')))\n",
    "distr_name"
   ]
  },
  {
   "cell_type": "markdown",
   "id": "afd9f782",
   "metadata": {},
   "source": [
    "### Шапиро-Уилко"
   ]
  },
  {
   "cell_type": "code",
   "execution_count": 17,
   "id": "8ff85eda",
   "metadata": {},
   "outputs": [
    {
     "name": "stdout",
     "output_type": "stream",
     "text": [
      "ShapiroResult(statistic=0.9998635649681091, pvalue=0.8496323227882385) normal_distr\n",
      "ShapiroResult(statistic=0.9533578753471375, pvalue=0.0) uniform_distr\n",
      "ShapiroResult(statistic=0.8201448321342468, pvalue=0.0) expon_distr\n"
     ]
    },
    {
     "name": "stderr",
     "output_type": "stream",
     "text": [
      "C:\\ProgramData\\Anaconda3\\lib\\site-packages\\scipy\\stats\\_morestats.py:1800: UserWarning: p-value may not be accurate for N > 5000.\n",
      "  warnings.warn(\"p-value may not be accurate for N > 5000.\")\n"
     ]
    }
   ],
   "source": [
    "for distr, name in distr_name:\n",
    "    print(stats.shapiro(distr), name)"
   ]
  },
  {
   "cell_type": "markdown",
   "id": "0b9bb1af",
   "metadata": {},
   "source": [
    "### Колмогоров-Смирнов"
   ]
  },
  {
   "cell_type": "code",
   "execution_count": 18,
   "id": "2f55fec8",
   "metadata": {},
   "outputs": [
    {
     "name": "stdout",
     "output_type": "stream",
     "text": [
      "KstestResult(statistic=0.012467079132915448, pvalue=0.08857985189965845) normal_distr\n",
      "KstestResult(statistic=0.5000354726603488, pvalue=0.0) uniform_distr\n",
      "KstestResult(statistic=0.500042763414697, pvalue=0.0) expon_distr\n"
     ]
    }
   ],
   "source": [
    "for distr, name in distr_name:\n",
    "    print(stats.kstest(distr, 'norm'), name)"
   ]
  },
  {
   "cell_type": "code",
   "execution_count": 19,
   "id": "73f89f3d",
   "metadata": {},
   "outputs": [
    {
     "name": "stdout",
     "output_type": "stream",
     "text": [
      "KstestResult(statistic=0.5058, pvalue=0.0) normal_distr\n",
      "KstestResult(statistic=0.008849160391310174, pvalue=0.41152662552685004) uniform_distr\n",
      "KstestResult(statistic=0.37549999999999994, pvalue=0.0) expon_distr\n"
     ]
    }
   ],
   "source": [
    "for distr, name in distr_name:\n",
    "    print(stats.kstest(distr, 'uniform'), name)"
   ]
  },
  {
   "cell_type": "code",
   "execution_count": 20,
   "id": "c1b1c8ca",
   "metadata": {},
   "outputs": [
    {
     "name": "stdout",
     "output_type": "stream",
     "text": [
      "KstestResult(statistic=0.5058, pvalue=0.0) normal_distr\n",
      "KstestResult(statistic=0.36789883001079193, pvalue=0.0) uniform_distr\n",
      "KstestResult(statistic=0.008744789691556343, pvalue=0.4265017421405024) expon_distr\n"
     ]
    }
   ],
   "source": [
    "for distr, name in distr_name:\n",
    "    print(stats.kstest(distr, 'expon'), name)"
   ]
  },
  {
   "cell_type": "markdown",
   "id": "42b0d8c5",
   "metadata": {},
   "source": [
    "### Библиотека distfit"
   ]
  },
  {
   "cell_type": "code",
   "execution_count": null,
   "id": "d28693e1",
   "metadata": {},
   "outputs": [],
   "source": [
    "#pip install distfit\n",
    "from distfit import distfit\n",
    "\n",
    "# Initialize for discrete distribution fitting\n",
    "dfit = distfit(distr=[\n",
    "    'norm', 'uniform', 'expon'\n",
    "])\n",
    "\n",
    "# Run distfit to and determine whether we can find the parameters from the data.\n",
    "result = dfit.fit_transform(Y)"
   ]
  },
  {
   "cell_type": "code",
   "execution_count": null,
   "id": "a5ec3f94",
   "metadata": {},
   "outputs": [],
   "source": [
    "result['model']"
   ]
  }
 ],
 "metadata": {
  "kernelspec": {
   "display_name": "Python 3 (ipykernel)",
   "language": "python",
   "name": "python3"
  },
  "language_info": {
   "codemirror_mode": {
    "name": "ipython",
    "version": 3
   },
   "file_extension": ".py",
   "mimetype": "text/x-python",
   "name": "python",
   "nbconvert_exporter": "python",
   "pygments_lexer": "ipython3",
   "version": "3.9.13"
  }
 },
 "nbformat": 4,
 "nbformat_minor": 5
}
